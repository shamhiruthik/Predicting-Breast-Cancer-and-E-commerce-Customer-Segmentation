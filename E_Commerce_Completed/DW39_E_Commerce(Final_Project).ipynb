{
  "nbformat": 4,
  "nbformat_minor": 0,
  "metadata": {
    "colab": {
      "provenance": []
    },
    "kernelspec": {
      "name": "python3",
      "display_name": "Python 3"
    },
    "language_info": {
      "name": "python"
    }
  },
  "cells": [
    {
      "cell_type": "markdown",
      "metadata": {
        "id": "view-in-github"
      },
      "source": [
        "<a href=\"https://colab.research.google.com/github/sandestiny/E-commerce-Customer-Segmentation/blob/main/DW20_Project_work_2.ipynb\" target=\"_parent\"><img src=\"https://colab.research.google.com/assets/colab-badge.svg\" alt=\"Open In Colab\"/></a>"
      ]
    },
    {
      "cell_type": "markdown",
      "source": [
        "# **E-Commerce Customer Segmentation** by Sham Hiruthik\n",
        "\n"
      ],
      "metadata": {
        "id": "72143g9p_Lvn"
      }
    },
    {
      "cell_type": "markdown",
      "source": [
        "### **Data Preparation**"
      ],
      "metadata": {
        "id": "Y2yKgYRz_ZGq"
      }
    },
    {
      "cell_type": "code",
      "source": [
        "import os\n",
        "import pandas as pd\n",
        "import numpy as np\n",
        "import matplotlib.pyplot as plt\n",
        "import seaborn as sns\n",
        "from sklearn.cluster import KMeans\n",
        "from sklearn import metrics"
      ],
      "metadata": {
        "id": "deuas43BBh5g"
      },
      "execution_count": null,
      "outputs": []
    },
    {
      "cell_type": "code",
      "source": [
        "os.chdir(r\"/gdrive/MyDrive/Colab Notebooks/Problem Statement\")"
      ],
      "metadata": {
        "id": "AgSzmWvpaGep",
        "colab": {
          "base_uri": "https://localhost:8080/",
          "height": 171
        },
        "outputId": "874f2d3f-e218-45ab-c52a-0c14bd39b144"
      },
      "execution_count": null,
      "outputs": [
        {
          "output_type": "error",
          "ename": "FileNotFoundError",
          "evalue": "ignored",
          "traceback": [
            "\u001b[0;31m---------------------------------------------------------------------------\u001b[0m",
            "\u001b[0;31mFileNotFoundError\u001b[0m                         Traceback (most recent call last)",
            "\u001b[0;32m<ipython-input-3-520cad596ffc>\u001b[0m in \u001b[0;36m<cell line: 1>\u001b[0;34m()\u001b[0m\n\u001b[0;32m----> 1\u001b[0;31m \u001b[0mos\u001b[0m\u001b[0;34m.\u001b[0m\u001b[0mchdir\u001b[0m\u001b[0;34m(\u001b[0m\u001b[0;34mr\"/gdrive/MyDrive/Colab Notebooks/Problem Statement\"\u001b[0m\u001b[0;34m)\u001b[0m\u001b[0;34m\u001b[0m\u001b[0;34m\u001b[0m\u001b[0m\n\u001b[0m",
            "\u001b[0;31mFileNotFoundError\u001b[0m: [Errno 2] No such file or directory: '/gdrive/MyDrive/Colab Notebooks/Problem Statement'"
          ]
        }
      ]
    },
    {
      "cell_type": "code",
      "source": [
        "os.listdir()"
      ],
      "metadata": {
        "id": "CdOOATY1LCK-"
      },
      "execution_count": null,
      "outputs": []
    },
    {
      "cell_type": "code",
      "source": [
        "cust = pd.read_excel('cust_data.xlsx')\n",
        "cust.head()"
      ],
      "metadata": {
        "id": "C1lXZ8ERMXLc"
      },
      "execution_count": null,
      "outputs": []
    },
    {
      "cell_type": "code",
      "source": [
        "cust.info()"
      ],
      "metadata": {
        "id": "X4uUZ8CuP0Iv"
      },
      "execution_count": null,
      "outputs": []
    },
    {
      "cell_type": "code",
      "source": [
        "cust.dtypes.value_counts()"
      ],
      "metadata": {
        "id": "UIMPXii9P4Fc"
      },
      "execution_count": null,
      "outputs": []
    },
    {
      "cell_type": "code",
      "source": [
        "cust.shape"
      ],
      "metadata": {
        "id": "efakMdHWP6tP"
      },
      "execution_count": null,
      "outputs": []
    },
    {
      "cell_type": "code",
      "source": [
        "cust.drop(columns = ['Cust_ID'], inplace = True)"
      ],
      "metadata": {
        "id": "a-tRlF-6P-HG"
      },
      "execution_count": null,
      "outputs": []
    },
    {
      "cell_type": "markdown",
      "source": [
        "### **Checking missing values**"
      ],
      "metadata": {
        "id": "v2k4qPgNQBDT"
      }
    },
    {
      "cell_type": "code",
      "source": [
        "def missingValues(data):\n",
        "    m=data.isnull().sum()\n",
        "    md=(data.isnull().sum()/ data.shape[0]*100)\n",
        "    df=pd.concat([m, md], axis=1, keys=[\"Missing\", \"Percentage\"])\n",
        "    fg=df.sort_values(by =\"Percentage\", ascending=False)\n",
        "    fg1=fg[fg[\"Percentage\"]>0]\n",
        "    return fg1"
      ],
      "metadata": {
        "id": "N80h6-C7QD9W"
      },
      "execution_count": null,
      "outputs": []
    },
    {
      "cell_type": "code",
      "source": [
        "missingValues(cust)"
      ],
      "metadata": {
        "id": "GGLpwjxuQJJK"
      },
      "execution_count": null,
      "outputs": []
    },
    {
      "cell_type": "markdown",
      "source": [
        "### **Missing values Treatment**"
      ],
      "metadata": {
        "id": "S_KS3BLKQNBb"
      }
    },
    {
      "cell_type": "code",
      "source": [
        "cust['Gender'].unique()"
      ],
      "metadata": {
        "id": "1RogRnnnQOcW"
      },
      "execution_count": null,
      "outputs": []
    },
    {
      "cell_type": "code",
      "source": [
        "cust['Gender'].value_counts()"
      ],
      "metadata": {
        "id": "lJMGBetCWQQH"
      },
      "execution_count": null,
      "outputs": []
    },
    {
      "cell_type": "code",
      "source": [
        "cust['Gender'].fillna('Other', inplace = True)"
      ],
      "metadata": {
        "id": "AWiFy7MlWTDQ"
      },
      "execution_count": null,
      "outputs": []
    },
    {
      "cell_type": "markdown",
      "source": [
        "### **Dummy Creation**"
      ],
      "metadata": {
        "id": "E-r6HsRiWWxf"
      }
    },
    {
      "cell_type": "code",
      "source": [
        "cust1 = pd.get_dummies(cust, drop_first=True)"
      ],
      "metadata": {
        "id": "MSWNzfTrWX9j"
      },
      "execution_count": null,
      "outputs": []
    },
    {
      "cell_type": "code",
      "source": [
        "cust1.columns"
      ],
      "metadata": {
        "id": "1TBMm-J6Wbaf"
      },
      "execution_count": null,
      "outputs": []
    },
    {
      "cell_type": "markdown",
      "source": [
        "### **Checking Outliers**"
      ],
      "metadata": {
        "id": "sRer3fEdWepI"
      }
    },
    {
      "cell_type": "code",
      "source": [
        "cust1.describe(percentiles = [0.01,0.02,0.03,0.04,0.05,0.25,0.5,0.75,0.95,0.96,0.97,0.98,0.99]).T"
      ],
      "metadata": {
        "id": "iza39wI4WfvT"
      },
      "execution_count": null,
      "outputs": []
    },
    {
      "cell_type": "markdown",
      "source": [
        "### **Outlier Treatment**"
      ],
      "metadata": {
        "id": "B-_p25pqWkbi"
      }
    },
    {
      "cell_type": "code",
      "source": [
        "def outlier_capping(x):\n",
        "    x = x.clip(upper=x.quantile(0.99))\n",
        "    return x"
      ],
      "metadata": {
        "id": "GhUTHk4yWnL_"
      },
      "execution_count": null,
      "outputs": []
    },
    {
      "cell_type": "code",
      "source": [
        "cust2 = cust1.apply(lambda x : outlier_capping(x))"
      ],
      "metadata": {
        "id": "Kf1mZc6yWpt8"
      },
      "execution_count": null,
      "outputs": []
    },
    {
      "cell_type": "code",
      "source": [
        "cust2.shape"
      ],
      "metadata": {
        "id": "w20RfD2QWrnn"
      },
      "execution_count": null,
      "outputs": []
    },
    {
      "cell_type": "code",
      "source": [
        "cust2.columns"
      ],
      "metadata": {
        "id": "EbT8M4RAWt40"
      },
      "execution_count": null,
      "outputs": []
    },
    {
      "cell_type": "code",
      "source": [
        "x = ['Jordan', 'Gatorade', 'Samsung', 'Asus', 'Udis',\n",
        "       'Mondelez International', 'Wrangler', 'Vans', 'Fila', 'Brooks', 'H&M',\n",
        "       'Dairy Queen', 'Fendi', 'Hewlett Packard', 'Pladis', 'Asics', 'Siemens',\n",
        "       'J.M. Smucker', 'Pop Chips', 'Juniper', 'Huawei', 'Compaq', 'IBM',\n",
        "       'Burberry', 'Mi', 'LG', 'Dior', 'Scabal', 'Tommy Hilfiger', 'Hollister',\n",
        "       'Forever 21', 'Colavita', 'Microsoft', 'Jiffy mix', 'Kraft']\n",
        "cust3 = cust2[x]"
      ],
      "metadata": {
        "id": "E0qRLlh3WwMK"
      },
      "execution_count": null,
      "outputs": []
    },
    {
      "cell_type": "code",
      "source": [
        "def myKmeans(data,k, gap, verbose=True, grp=True):\n",
        "    wcss=[]\n",
        "    cluster=[]\n",
        "    for i in range(1,k+1, gap):\n",
        "        cluster.append(i)\n",
        "        km=KMeans(n_clusters=i)\n",
        "        km_result=km.fit(data)\n",
        "        intr=km_result.inertia_\n",
        "        wcss.append(intr)\n",
        "        if verbose:\n",
        "            print(f\"for cluster {i} ; WCSS = {round(intr, 2)}\")\n",
        "    if grp:\n",
        "        plt.plot(cluster, wcss, label=\"within cluster sum of sqaure(wcss)\")\n",
        "        plt.xlabel(\"Clusters\")\n",
        "        plt.ylabel(\"Wcss\")\n",
        "        plt.legend()\n",
        "        plt.show()\n",
        "    return wcss, cluster"
      ],
      "metadata": {
        "id": "tsSKPPk8Wy-p"
      },
      "execution_count": null,
      "outputs": []
    },
    {
      "cell_type": "code",
      "source": [
        "plt.figure(figsize = [10,7])\n",
        "myKmeans(data=cust2, k=10, gap=1, verbose=True)"
      ],
      "metadata": {
        "id": "jK751vYJW14M"
      },
      "execution_count": null,
      "outputs": []
    },
    {
      "cell_type": "markdown",
      "source": [
        "\n",
        "**n_clusters = 2**"
      ],
      "metadata": {
        "id": "vsNZm2ILW9IK"
      }
    },
    {
      "cell_type": "code",
      "source": [
        "km=KMeans(n_clusters=2)\n",
        "km_result=km.fit(cust2)"
      ],
      "metadata": {
        "id": "vjc48DpRW8ju"
      },
      "execution_count": null,
      "outputs": []
    },
    {
      "cell_type": "code",
      "source": [
        "km_result.labels_"
      ],
      "metadata": {
        "id": "NC9-JLWTXCQk"
      },
      "execution_count": null,
      "outputs": []
    },
    {
      "cell_type": "code",
      "source": [
        "cust2"
      ],
      "metadata": {
        "id": "r8WhFrNuXEQa"
      },
      "execution_count": null,
      "outputs": []
    },
    {
      "cell_type": "code",
      "source": [
        "cust4=cust2.copy()"
      ],
      "metadata": {
        "id": "s240hGvfXG4o"
      },
      "execution_count": null,
      "outputs": []
    },
    {
      "cell_type": "code",
      "source": [
        "cust4[\"cluster2\"]=km_result.labels_\n",
        "cust4.head()"
      ],
      "metadata": {
        "id": "8xB4nBGKXJOz"
      },
      "execution_count": null,
      "outputs": []
    },
    {
      "cell_type": "code",
      "source": [
        "cust4[\"cluster2\"].value_counts()"
      ],
      "metadata": {
        "id": "VLHyf3SeXLy3"
      },
      "execution_count": null,
      "outputs": []
    },
    {
      "cell_type": "code",
      "source": [
        "clust2=cust4.groupby([\"cluster2\"]).mean().T\n",
        "clust2.columns=[\"clust1\", \"clust2\"]\n",
        "clust2.reset_index(inplace=True)\n",
        "clust2"
      ],
      "metadata": {
        "id": "kZgYZ7VWXOnU"
      },
      "execution_count": null,
      "outputs": []
    },
    {
      "cell_type": "code",
      "source": [
        "overall=pd.DataFrame(cust2.describe().T[\"mean\"])\n",
        "overall.reset_index(inplace=True)\n",
        "overall.columns=[\"index\", \"Overall_mean\"]"
      ],
      "metadata": {
        "id": "SuByhyFnXSJH"
      },
      "execution_count": null,
      "outputs": []
    },
    {
      "cell_type": "code",
      "source": [
        "final2=overall.merge(clust2, on=\"index\", how=\"inner\")\n",
        "final2"
      ],
      "metadata": {
        "id": "WUysS8yXXUOr"
      },
      "execution_count": null,
      "outputs": []
    },
    {
      "cell_type": "markdown",
      "source": [
        "### **Silhouette score 2**"
      ],
      "metadata": {
        "id": "OKOEeyvGXX1J"
      }
    },
    {
      "cell_type": "code",
      "source": [
        "score1 = metrics.silhouette_score(cust2, km_result.labels_)\n",
        "print('Silhouette Score : % 0.3f' % score1)"
      ],
      "metadata": {
        "id": "M-z0yWDtXY6y"
      },
      "execution_count": null,
      "outputs": []
    },
    {
      "cell_type": "code",
      "source": [
        "cust4.columns"
      ],
      "metadata": {
        "id": "z1G_HIOkXf5G"
      },
      "execution_count": null,
      "outputs": []
    },
    {
      "cell_type": "code",
      "source": [
        "final2.to_excel(\"Cluster_2.xlsx\" )"
      ],
      "metadata": {
        "id": "2eWMXLSlXiyh"
      },
      "execution_count": null,
      "outputs": []
    },
    {
      "cell_type": "markdown",
      "source": [
        "### **Silhouette Analysis**"
      ],
      "metadata": {
        "id": "PkkotP_zXl3-"
      }
    },
    {
      "cell_type": "code",
      "source": [
        "! pip install yellowbrick"
      ],
      "metadata": {
        "id": "iCtEI02eXn02"
      },
      "execution_count": null,
      "outputs": []
    },
    {
      "cell_type": "code",
      "source": [
        "from yellowbrick.cluster import SilhouetteVisualizer\n",
        " \n",
        "fig, ax = plt.subplots(2, 2, figsize=(15,8))\n",
        "for i in [2, 3, 4, 5]:\n",
        "    '''\n",
        "    Create KMeans instance for different number of clusters\n",
        "    '''\n",
        "    km = KMeans(n_clusters=i, init='k-means++', n_init=10, max_iter=100, random_state=42)\n",
        "    q, mod = divmod(i, 2)\n",
        "    '''\n",
        "    Create SilhouetteVisualizer instance with KMeans instance\n",
        "    Fit the visualizer\n",
        "    '''\n",
        "    visualizer = SilhouetteVisualizer(km, colors='yellowbrick', ax=ax[q-1][mod])\n",
        "    visualizer.fit(cust2) "
      ],
      "metadata": {
        "id": "g6IEy7lxXtMI"
      },
      "execution_count": null,
      "outputs": []
    },
    {
      "cell_type": "markdown",
      "source": [
        "**n_clusters = 3**"
      ],
      "metadata": {
        "id": "M61s8B36YNHe"
      }
    },
    {
      "cell_type": "code",
      "source": [
        "km=KMeans(n_clusters=3)\n",
        "km_result=km.fit(cust2)"
      ],
      "metadata": {
        "id": "mBiEiaB3YOh1"
      },
      "execution_count": null,
      "outputs": []
    },
    {
      "cell_type": "code",
      "source": [
        "km_result.labels_"
      ],
      "metadata": {
        "id": "v_6aNQcnYRC7"
      },
      "execution_count": null,
      "outputs": []
    },
    {
      "cell_type": "code",
      "source": [
        "cust5=cust2.copy()"
      ],
      "metadata": {
        "id": "7QRNdblaYTXB"
      },
      "execution_count": null,
      "outputs": []
    },
    {
      "cell_type": "code",
      "source": [
        "cust5[\"cluster3\"]=km_result.labels_"
      ],
      "metadata": {
        "id": "sl2uLo_9YVJV"
      },
      "execution_count": null,
      "outputs": []
    },
    {
      "cell_type": "code",
      "source": [
        "cust5[\"cluster3\"].value_counts()"
      ],
      "metadata": {
        "id": "bOBkcglbYXcG"
      },
      "execution_count": null,
      "outputs": []
    },
    {
      "cell_type": "code",
      "source": [
        "clust3=cust5.groupby([\"cluster3\"]).mean().T\n",
        "clust3.columns=[\"clust1\", \"clust2\", \"clust3\"]\n",
        "clust3.reset_index(inplace=True)\n",
        "clust3"
      ],
      "metadata": {
        "id": "RliqA9uzYaFN"
      },
      "execution_count": null,
      "outputs": []
    },
    {
      "cell_type": "code",
      "source": [
        "final3=overall.merge(clust3, on=\"index\", how=\"inner\")\n",
        "final3"
      ],
      "metadata": {
        "id": "ePHsFNRhYswj"
      },
      "execution_count": null,
      "outputs": []
    },
    {
      "cell_type": "markdown",
      "source": [
        "**Silhouette score 3**"
      ],
      "metadata": {
        "id": "sAuXNWYkZCZ9"
      }
    },
    {
      "cell_type": "code",
      "source": [
        "score2 = metrics.silhouette_score(cust2, km_result.labels_)\n",
        "print('Silhouette Score : % 0.3f' % score2)"
      ],
      "metadata": {
        "id": "zGVdMvkMZE0_"
      },
      "execution_count": null,
      "outputs": []
    },
    {
      "cell_type": "code",
      "source": [
        "final3.to_excel(\"Cluster_3.xlsx\" )"
      ],
      "metadata": {
        "id": "3VwSkK6QZJQd"
      },
      "execution_count": null,
      "outputs": []
    },
    {
      "cell_type": "markdown",
      "source": [
        "**n_clusters = 4**"
      ],
      "metadata": {
        "id": "ei-6DPfCZM7Z"
      }
    },
    {
      "cell_type": "code",
      "source": [
        "km=KMeans(n_clusters=4)\n",
        "km_result=km.fit(cust2)"
      ],
      "metadata": {
        "id": "CaJH1ozXZOQF"
      },
      "execution_count": null,
      "outputs": []
    },
    {
      "cell_type": "code",
      "source": [
        "km_result.labels_"
      ],
      "metadata": {
        "id": "lluvOBdfZRG4"
      },
      "execution_count": null,
      "outputs": []
    },
    {
      "cell_type": "code",
      "source": [
        "cust6=cust2.copy()"
      ],
      "metadata": {
        "id": "9w8TQcP2ZTdW"
      },
      "execution_count": null,
      "outputs": []
    },
    {
      "cell_type": "code",
      "source": [
        "cust6[\"cluster4\"]=km_result.labels_"
      ],
      "metadata": {
        "id": "NdZGkekNZV0h"
      },
      "execution_count": null,
      "outputs": []
    },
    {
      "cell_type": "code",
      "source": [
        "cust6[\"cluster4\"].value_counts()"
      ],
      "metadata": {
        "id": "0a7XfB47ZXzQ"
      },
      "execution_count": null,
      "outputs": []
    },
    {
      "cell_type": "code",
      "source": [
        "clust4=cust6.groupby([\"cluster4\"]).mean().T\n",
        "clust4.columns=[\"clust1\", \"clust2\", \"clust3\", \"clust4\"]\n",
        "clust4.reset_index(inplace=True)\n",
        "clust4"
      ],
      "metadata": {
        "id": "JD87jgmiZZyC"
      },
      "execution_count": null,
      "outputs": []
    },
    {
      "cell_type": "code",
      "source": [
        "final4=overall.merge(clust4, on=\"index\", how=\"inner\")\n",
        "final4"
      ],
      "metadata": {
        "id": "HBrIp0TpZc4N"
      },
      "execution_count": null,
      "outputs": []
    },
    {
      "cell_type": "markdown",
      "source": [
        "**Silhouette score 4**"
      ],
      "metadata": {
        "id": "KrnVrtySZgNk"
      }
    },
    {
      "cell_type": "code",
      "source": [
        "score3 = metrics.silhouette_score(cust2, km_result.labels_)\n",
        "print('Silhouette Score : % 0.3f' % score3)"
      ],
      "metadata": {
        "id": "13hqxW13Zh_h"
      },
      "execution_count": null,
      "outputs": []
    },
    {
      "cell_type": "code",
      "source": [
        "final4.to_excel(\"Cluster_4.xlsx\" )"
      ],
      "metadata": {
        "id": "9Pg47apsZf4N"
      },
      "execution_count": null,
      "outputs": []
    }
  ]
}